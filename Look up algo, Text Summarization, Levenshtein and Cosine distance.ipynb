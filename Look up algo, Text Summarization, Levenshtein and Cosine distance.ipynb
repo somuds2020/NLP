{
 "cells": [
  {
   "cell_type": "markdown",
   "metadata": {},
   "source": [
    "# Look Up Algorithms"
   ]
  },
  {
   "cell_type": "markdown",
   "metadata": {},
   "source": [
    "- tables\n",
    "- hash tables\n",
    "- dictionary"
   ]
  },
  {
   "cell_type": "code",
   "execution_count": 1,
   "metadata": {},
   "outputs": [],
   "source": [
    "text = \"RT We r goin to the CCD @ MG Rd DM for more info\""
   ]
  },
  {
   "cell_type": "code",
   "execution_count": 2,
   "metadata": {},
   "outputs": [],
   "source": [
    "lookup = {\n",
    "    'rt' : 'Retweet',\n",
    "    'r' : 'are',\n",
    "    'goin' : 'going',\n",
    "    'rd' : 'Road',\n",
    "    'dm' : 'Direct Message',\n",
    "    'info' : 'information'\n",
    "}"
   ]
  },
  {
   "cell_type": "code",
   "execution_count": 3,
   "metadata": {},
   "outputs": [],
   "source": [
    "def lookup_algorithm(text):\n",
    "    \"\"\"\n",
    "    it takes a text message from whatsapp or twitter\n",
    "    and converts to to regular english words\n",
    "    \"\"\"\n",
    "    all_words = text.split(\" \") # tokenization step\n",
    "    new_text = []\n",
    "    \n",
    "    for each_word in all_words: # linear O(n)\n",
    "        lower_each = each_word.lower()\n",
    "        \n",
    "        if lower_each in lookup: # constant time look up\n",
    "            new_text.append(lookup[lower_each])\n",
    "        else:\n",
    "            new_text.append(each_word)\n",
    "    \n",
    "    return ' '.join(new_text)"
   ]
  },
  {
   "cell_type": "code",
   "execution_count": 4,
   "metadata": {},
   "outputs": [
    {
     "data": {
      "text/plain": [
       "'RT We r goin to the CCD @ MG Rd DM for more info'"
      ]
     },
     "execution_count": 4,
     "metadata": {},
     "output_type": "execute_result"
    }
   ],
   "source": [
    "text"
   ]
  },
  {
   "cell_type": "code",
   "execution_count": 5,
   "metadata": {},
   "outputs": [
    {
     "data": {
      "text/plain": [
       "'Retweet We are going to the CCD @ MG Road Direct Message for more information'"
      ]
     },
     "execution_count": 5,
     "metadata": {},
     "output_type": "execute_result"
    }
   ],
   "source": [
    "lookup_algorithm(text)"
   ]
  },
  {
   "cell_type": "markdown",
   "metadata": {},
   "source": [
    "# Text Summarization\n",
    "\n",
    "- inshorts ( real life example )\n",
    "\n",
    "\n",
    "## Two types\n",
    "\n",
    "- Abstractive - 100 - 10 => sum text not nec will be in original\n",
    "- Extractive - 100 - 10 => sum text will always be present in original"
   ]
  },
  {
   "cell_type": "markdown",
   "metadata": {},
   "source": [
    "word embeding\n",
    "```\n",
    "Die - [1 0 1 2 5 8 1 5 5 6]\n",
    "Died - [1 0 1 2 6 8 7 1 5 6]\n",
    "```"
   ]
  },
  {
   "cell_type": "code",
   "execution_count": 6,
   "metadata": {},
   "outputs": [],
   "source": [
    "text = '''\n",
    "Death is a reality. It is estimated that 19 people die each minute in India. Each death is a story of sorrow in itself. But getting killed is a different shock altogether. Getting killed in a communal riot breeds anger when it appears that the security agencies could have prevented the madness. And, it calls for fixing accountability before public memory fades to stop the chain of communal riots.\n",
    "\n",
    "At least 38 people died in North East Delhi during three days of communal riots. Blame-game is on just like the probe as to what exactly triggered the communal clashes in which stones were pelted, petrol cans were hurled, shops and homes were burnt down, guns and knives were used to kill whoever came the rioters' way and bodies were dumped in drains and where not.\n",
    "\n",
    "It has been reported that at least six alerts were sent to the Delhi Police, warning about possible communal violence on Sunday. It was the same Sunday when BJP leader Kapil Mishra called for a gathering at Maujpur - one of the most riot-hit localities in Delhi -- against the anti-CAA protesters, who had blocked road in the area.\n",
    "\n",
    "The same day, Kapil Mishra had given a \"three-day ultimatum\" to the Delhi Police for clearing the road of anti-CAA protesters. But did his call for gathering led to communal violence is up for debate.\n",
    "\n",
    "The question is if intelligence alerts were sent to the Delhi Police and even locals got information that something could happen, why were the preventive measures not taken?\n",
    "\n",
    "\n",
    "There are some who claim that the locals had received information that some criminal elements were already planning to do \"something big\" during the visit of US President Donald Trump. This points to a planning behind Delhi riots, a deduction arrived at by Minister of State for Home Affairs G Kishan Reddy, who declared the riots to be \"orchestrated\" from his Hyderabad visit.\n",
    "\n",
    "Union Home Minister Amit Shah differed from his junior minister and identified Delhi riots as \"spontaneous\" incident of communal clashes.\n",
    "\n",
    "Police gather intelligence through their beat offices, local intelligence units and through police-public contact. Those defending Kapil Mishra argue that incendiary speeches were being delivered at anti-CAA protests. Anyway, Delhi had seen a string of hate speeches over the past two months. Every hate speech is a crime.\n",
    "\n",
    "Irrespective of whether these riots in Delhi were spontaneous or orchestrated, why did the Delhi Police not take prompt action to pre-empt communal riots?\n",
    "\n",
    "Why did the Delhi Police not take hate mongers in custody, at least in preventive detention given that there were alerts about possible communal disturbances?\n",
    "\n",
    "Why did the Delhi Police delay in lodging FIRs?\n",
    "\n",
    "The argument presented in the high court by both the police and the central government was that the time for lodging FIR in connection with hate speeches was not \"conducive\". Which law defines what is a \"conducive\" time for registering an FIR?\n",
    "\n",
    "FIR is the basis for investigation. In several judgments, the courts have held that police cannot delay registering FIRs. Police suddenly swung into action on Wednesday. One newspaper quoted a police official as saying, \"Upar se order aa gaye raat koab sab shaant hai\" while explaining what brought the change in standard of policing.\n",
    "\n",
    "This suggests that the Delhi Police personnel on ground did not have orders to act against the rioters. The question is: do Delhi Police personnel have to wait for orders from the above to perform regular policing tasks?\n",
    "\n",
    "And, who gives order from \"upar\"?\n",
    "\n",
    "The Delhi Police functions under the Union home ministry headed by Amit Shah. Where does this \"upar\" buck stop in the Delhi Police?\n",
    "\n",
    "Riots were contained after National Security Adviser Ajit Doval took charge of the situation. He held meetings with senior officers and also with the police personnel on the ground. He visited the riot-hit areas of Delhi in the middle of the night and also on Wednesday when he assured riot survivors that police will do their job.\n",
    "\n",
    "What NSA Doval did was the primary job of respective SHOs (Station House Officers) of the Delhi Police. The question is, why did Delhi Police officials not conduct flag-march on Sunday, when clashes were beginning, and early Monday, the day clashes turned into communal riots? Who is responsible for this lack of policing?\n",
    "\n",
    "Role of the police is key in dealing riots, but this does not mean the civil administration can play numb. In Delhi, police is under the central government. The civil administration is under the Delhi government. The district magistrates and the civilian administration too have tools to pre-empt a riot.\n",
    "\n",
    "\n",
    "Moreover, it is the district magistrate who has the power to call Army in riot-affected areas. If police did not seem to be effective in dealing with riots, why did district magistrate of the affected areas not write to the government seeking deployment of Army?\n",
    "\n",
    "Delhi Chief Minister Arvind Kejriwal's Aam Aadmi Party (AAP) won a thumping majority in the Delhi election this month only. The AAP has 62 MLAs including CM Kejriwal. His party members blamed Kapil Mishra for communal riots. Kapil Mishra is an ex-MLA from Karawal Nagar, one of the riot-affected areas. If an ex-MLA wields so much influence, winning MLAs must be more influential, particularly within two weeks of electoral victory.\n",
    "\n",
    "What and who stopped the AAP MLAs from reaching out to people and bring situation under control soon after Kapil Mishra threatened to hit the streets in three days and \"not listen to\" Delhi Police thereafter?\n",
    "\n",
    "And finally, when civil and police administration failed in saving the people of Delhi from gangs of rioters, the judiciary lent its ears. But why was the judge who came down heavily on the Delhi Police and the central government transferred the same night?\n",
    "\n",
    "True, that the Supreme Court collegium had recommended the transfer of Justice S Muralidhar from Delhi High Court on February 12 . But the timing of his transfer order does raise doubts in the times when credibility of state agencies is facing a serious crisis.\n",
    "\n",
    "The doubt deepens when the next bench agrees with the police's argument that time was not conducive for filing FIRs and gives the Delhi Police four weeks of time to register FIRs in hate speeches, fixing date for next hearing more than six weeks later.\n",
    "'''"
   ]
  },
  {
   "cell_type": "markdown",
   "metadata": {},
   "source": [
    "- python\n",
    "- basic nlp ( sent tokenize, word tokenize, lowercase )\n",
    "- num python skills ( numpy )\n",
    "- summarization"
   ]
  },
  {
   "cell_type": "markdown",
   "metadata": {},
   "source": [
    "# Algorithm\n",
    "\n",
    "- score each an every word ( except stop words, stemming)\n",
    "```\n",
    "{'doubt' : 10,\n",
    " 'deepens' :20\n",
    "```\n",
    "\n",
    "- score each sentence\n",
    "```\n",
    "Death is a reality\n",
    "5, 6\n",
    "[11,25,58,45] - sent scores\n",
    "```\n",
    "\n",
    "- normalize the sentence scores\n",
    "```\n",
    "[11/4, 25/8, 58/12 ..]\n",
    "```\n",
    "\n",
    "- normalized scores of whole text\n",
    "\n",
    "```\n",
    "[7.2,8.5,9.5,13.5] => average of all 8.9\n",
    "```\n",
    "\n",
    "- display all sentences whoes score is > average (8.9), this will be your summarized text\n",
    "\n",
    "- display all sentences whoes score is > average * 1.5 (8.9), this will be your summarized text ( even less number of sentences )"
   ]
  },
  {
   "cell_type": "markdown",
   "metadata": {},
   "source": [
    "'At least 38 people died in North East Delhi during three days of communal riots. Irrespective of whether these riots in Delhi were spontaneous or orchestrated, why did the Delhi Police not take prompt action to pre-empt communal riots? Why did the Delhi Police delay in lodging FIRs? Police suddenly swung into action on Wednesday. The question is: do Delhi Police personnel have to wait for orders from the above to perform regular policing tasks? The Delhi Police functions under the Union home ministry headed by Amit Shah. Where does this \"upar\" buck stop in the Delhi Police? In Delhi, police is under the central government. The civil administration is under the Delhi government. His party members blamed Kapil Mishra for communal riots.'"
   ]
  },
  {
   "cell_type": "markdown",
   "metadata": {},
   "source": [
    "# Distances & Algos"
   ]
  },
  {
   "cell_type": "markdown",
   "metadata": {},
   "source": [
    "## Levenshtein Distance"
   ]
  },
  {
   "cell_type": "markdown",
   "metadata": {},
   "source": [
    "two words\n",
    "\n",
    "- insert\n",
    "- delete\n",
    "- replace\n",
    "\n",
    "```\n",
    "good \n",
    "goof\n",
    "1\n",
    "\n",
    "good -> goo -> goof (2)\n",
    "good -> goof (1)\n",
    "\n",
    "abc\n",
    "dab\n",
    "2\n",
    "```"
   ]
  },
  {
   "cell_type": "markdown",
   "metadata": {},
   "source": [
    "# code for recursive and DP solution - Nishant\n",
    "\n",
    "- if same copy top-diagonal\n",
    "- if diff - min ( left, top, top-diag ) + 1"
   ]
  },
  {
   "cell_type": "markdown",
   "metadata": {},
   "source": [
    "<img src='./lvs distance.png' />"
   ]
  },
  {
   "cell_type": "code",
   "execution_count": 7,
   "metadata": {},
   "outputs": [
    {
     "name": "stdout",
     "output_type": "stream",
     "text": [
      "Requirement already satisfied: python-Levenshtein in /home/nishant/nishant-study/learnbay/feb_nlp/env/lib/python3.6/site-packages (0.12.0)\r\n",
      "Requirement already satisfied: setuptools in /home/nishant/nishant-study/learnbay/feb_nlp/env/lib/python3.6/site-packages (from python-Levenshtein) (45.2.0)\r\n"
     ]
    }
   ],
   "source": [
    "!pip install python-Levenshtein"
   ]
  },
  {
   "cell_type": "code",
   "execution_count": 8,
   "metadata": {},
   "outputs": [],
   "source": [
    "import Levenshtein"
   ]
  },
  {
   "cell_type": "code",
   "execution_count": 9,
   "metadata": {},
   "outputs": [
    {
     "data": {
      "text/plain": [
       "3"
      ]
     },
     "execution_count": 9,
     "metadata": {},
     "output_type": "execute_result"
    }
   ],
   "source": [
    "Levenshtein.distance('saturday','sunday')"
   ]
  },
  {
   "cell_type": "markdown",
   "metadata": {},
   "source": [
    "- chatbots ( suggestions words)\n",
    "- smart phone keyboard  auto suggestions of words\n",
    "- auto correct \n",
    "- correct words in your corpus\n",
    "\n",
    "- Tries ( Lets do it tommorow )"
   ]
  },
  {
   "cell_type": "code",
   "execution_count": 10,
   "metadata": {},
   "outputs": [],
   "source": [
    "all_words = ['binary','hexadecimal','program','computer','language',\n",
    "            'machine','base','for','while','break','continue',\n",
    "            'if','else']"
   ]
  },
  {
   "cell_type": "code",
   "execution_count": 11,
   "metadata": {},
   "outputs": [],
   "source": [
    "def auto_suggest(word):\n",
    "    \"\"\"\n",
    "    takes a word, and returns auto correct / autosuggested word\n",
    "    auto complete a word\n",
    "    \"\"\"\n",
    "    distances = []\n",
    "    \n",
    "    for each in all_words:\n",
    "        distances.append(Levenshtein.distance(word, each))\n",
    "\n",
    "    return all_words[distances.index(min(distances))]"
   ]
  },
  {
   "cell_type": "code",
   "execution_count": 12,
   "metadata": {},
   "outputs": [
    {
     "data": {
      "text/plain": [
       "'binary'"
      ]
     },
     "execution_count": 12,
     "metadata": {},
     "output_type": "execute_result"
    }
   ],
   "source": [
    "auto_suggest('bnry')"
   ]
  },
  {
   "cell_type": "code",
   "execution_count": 13,
   "metadata": {},
   "outputs": [
    {
     "data": {
      "text/plain": [
       "'else'"
      ]
     },
     "execution_count": 13,
     "metadata": {},
     "output_type": "execute_result"
    }
   ],
   "source": [
    "auto_suggest('els')"
   ]
  },
  {
   "cell_type": "markdown",
   "metadata": {},
   "source": [
    "pyspellchecker - library"
   ]
  },
  {
   "cell_type": "markdown",
   "metadata": {},
   "source": [
    "# Cosine"
   ]
  },
  {
   "cell_type": "code",
   "execution_count": 14,
   "metadata": {},
   "outputs": [],
   "source": [
    "from nltk.corpus import stopwords\n",
    "from nltk.tokenize import word_tokenize\n",
    "\n",
    "stop_words = stopwords.words('english')\n",
    "\n",
    "X = \"I love horror movies movies movies\".lower()\n",
    "Y = \"I also love horror movies\".lower()\n",
    "\n",
    "x_list = word_tokenize(X)\n",
    "y_list = word_tokenize(Y)\n",
    "\n",
    "features = sorted(list(set(x_list + y_list)))\n",
    "features = [each for each in features if each not in stop_words ]\n",
    "\n",
    "l1 = [0] * len(features)\n",
    "l2 = [0] * len(features)\n",
    "\n",
    "for index, each in enumerate(features):\n",
    "    if each in x_list:\n",
    "        l1[index] = x_list.count(each)\n",
    "    \n",
    "    if each in y_list:\n",
    "        l2[index] = y_list.count(each)"
   ]
  },
  {
   "cell_type": "code",
   "execution_count": 15,
   "metadata": {},
   "outputs": [
    {
     "data": {
      "text/plain": [
       "['also', 'horror', 'love', 'movies']"
      ]
     },
     "execution_count": 15,
     "metadata": {},
     "output_type": "execute_result"
    }
   ],
   "source": [
    "features"
   ]
  },
  {
   "cell_type": "code",
   "execution_count": 16,
   "metadata": {},
   "outputs": [
    {
     "data": {
      "text/plain": [
       "[0, 1, 1, 3]"
      ]
     },
     "execution_count": 16,
     "metadata": {},
     "output_type": "execute_result"
    }
   ],
   "source": [
    "l1"
   ]
  },
  {
   "cell_type": "code",
   "execution_count": 17,
   "metadata": {},
   "outputs": [
    {
     "data": {
      "text/plain": [
       "[1, 1, 1, 1]"
      ]
     },
     "execution_count": 17,
     "metadata": {},
     "output_type": "execute_result"
    }
   ],
   "source": [
    "l2"
   ]
  },
  {
   "cell_type": "code",
   "execution_count": 18,
   "metadata": {},
   "outputs": [],
   "source": [
    "def cosine_sim(a, b):\n",
    "    num = 0\n",
    "    den_1 = 0\n",
    "    den_2 = 0\n",
    "    \n",
    "    for x,y in zip(a,b):\n",
    "        num += x * y\n",
    "        den_1 += x ** 2\n",
    "        den_2 += y ** 2\n",
    "    \n",
    "    den_1 = den_1 ** 0.5\n",
    "    den_2 = den_2 ** 0.5\n",
    "    den = den_1 * den_2\n",
    "    \n",
    "    cosine = num /  den\n",
    "    return cosine"
   ]
  },
  {
   "cell_type": "code",
   "execution_count": 19,
   "metadata": {},
   "outputs": [
    {
     "data": {
      "text/plain": [
       "0.753778361444409"
      ]
     },
     "execution_count": 19,
     "metadata": {},
     "output_type": "execute_result"
    }
   ],
   "source": [
    "cosine_sim(l1, l2)"
   ]
  },
  {
   "cell_type": "markdown",
   "metadata": {},
   "source": [
    "<img src='./cosine.png'/>"
   ]
  },
  {
   "cell_type": "markdown",
   "metadata": {},
   "source": [
    "```\n",
    "numerator = summation(elements multiplied)\n",
    "denominator = sqrt(l1(sum(elements sqaured)) * sqrt(l2(sum(elements sqaured)) \n",
    "\n",
    "num / deno\n",
    "```"
   ]
  },
  {
   "cell_type": "code",
   "execution_count": 20,
   "metadata": {},
   "outputs": [],
   "source": [
    "from sklearn.feature_extraction.text import CountVectorizer\n",
    "cv = CountVectorizer()\n",
    "data = cv.fit_transform([X,Y])"
   ]
  },
  {
   "cell_type": "code",
   "execution_count": 21,
   "metadata": {},
   "outputs": [
    {
     "data": {
      "text/plain": [
       "array([[0, 1, 1, 3],\n",
       "       [1, 1, 1, 1]])"
      ]
     },
     "execution_count": 21,
     "metadata": {},
     "output_type": "execute_result"
    }
   ],
   "source": [
    "data.toarray()"
   ]
  },
  {
   "cell_type": "code",
   "execution_count": 22,
   "metadata": {},
   "outputs": [],
   "source": [
    "from sklearn.metrics.pairwise import cosine_similarity"
   ]
  },
  {
   "cell_type": "code",
   "execution_count": 23,
   "metadata": {},
   "outputs": [
    {
     "data": {
      "text/plain": [
       "array([[1.        , 0.75377836],\n",
       "       [0.75377836, 1.        ]])"
      ]
     },
     "execution_count": 23,
     "metadata": {},
     "output_type": "execute_result"
    }
   ],
   "source": [
    "cosine_similarity(data)"
   ]
  },
  {
   "cell_type": "markdown",
   "metadata": {},
   "source": [
    "```\n",
    "    x     y\n",
    "\n",
    "x   1    0.75\n",
    "\n",
    "y   0.75  1\n",
    "```"
   ]
  },
  {
   "cell_type": "markdown",
   "metadata": {},
   "source": [
    "## bot which replies to feedback\n",
    "\n",
    "- Food outlet\n",
    "- 2 cases user is happy with food\n",
    "- or complaints\n",
    "\n",
    "- make a system\n",
    "\n",
    "    - happy => Glad to help\n",
    "    - unhappy => Sorry, and then pass an email-id.\n",
    "    - undecided => I can not understand, please contact +91155555\n",
    "```\n",
    "user_input - 'it was awesome', 'can you make a reservation'\n",
    "intent_happy = ['food was great, 'loved the meal', 'food was awesome'] 10 examples\n",
    "intent_unhappy = [] 10 examples\n",
    "```\n",
    "\n",
    "```\n",
    "if your cosine similarity > 0.7:\n",
    "    happy or sad case\n",
    "else:\n",
    "    not able to decide\n",
    "```"
   ]
  },
  {
   "cell_type": "code",
   "execution_count": null,
   "metadata": {},
   "outputs": [],
   "source": []
  }
 ],
 "metadata": {
  "kernelspec": {
   "display_name": "Python 3",
   "language": "python",
   "name": "python3"
  },
  "language_info": {
   "codemirror_mode": {
    "name": "ipython",
    "version": 3
   },
   "file_extension": ".py",
   "mimetype": "text/x-python",
   "name": "python",
   "nbconvert_exporter": "python",
   "pygments_lexer": "ipython3",
   "version": "3.7.4"
  }
 },
 "nbformat": 4,
 "nbformat_minor": 4
}
