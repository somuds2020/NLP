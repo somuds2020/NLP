{
 "cells": [
  {
   "cell_type": "markdown",
   "metadata": {},
   "source": [
    "# Information Ret Project\n",
    "\n",
    "- User is reading about Saching Blogs\n",
    "- which other posts you can recommed to that person\n",
    "\n",
    "\n",
    "- Query A- Document A\n",
    "- Which Docs are sim to Doc A and pass on that as well"
   ]
  },
  {
   "cell_type": "code",
   "execution_count": 1,
   "metadata": {},
   "outputs": [],
   "source": [
    "import  pandas as pd"
   ]
  },
  {
   "cell_type": "code",
   "execution_count": 2,
   "metadata": {},
   "outputs": [],
   "source": [
    "people = pd.read_csv('people_data.csv')"
   ]
  },
  {
   "cell_type": "code",
   "execution_count": 3,
   "metadata": {},
   "outputs": [
    {
     "data": {
      "text/html": [
       "<div>\n",
       "<style scoped>\n",
       "    .dataframe tbody tr th:only-of-type {\n",
       "        vertical-align: middle;\n",
       "    }\n",
       "\n",
       "    .dataframe tbody tr th {\n",
       "        vertical-align: top;\n",
       "    }\n",
       "\n",
       "    .dataframe thead th {\n",
       "        text-align: right;\n",
       "    }\n",
       "</style>\n",
       "<table border=\"1\" class=\"dataframe\">\n",
       "  <thead>\n",
       "    <tr style=\"text-align: right;\">\n",
       "      <th></th>\n",
       "      <th>URI</th>\n",
       "      <th>name</th>\n",
       "      <th>text</th>\n",
       "    </tr>\n",
       "  </thead>\n",
       "  <tbody>\n",
       "    <tr>\n",
       "      <th>0</th>\n",
       "      <td>&lt;http://dbpedia.org/resource/Bill_Clinton&gt;</td>\n",
       "      <td>Bill Clinton</td>\n",
       "      <td>william jefferson bill clinton born william je...</td>\n",
       "    </tr>\n",
       "    <tr>\n",
       "      <th>1</th>\n",
       "      <td>&lt;http://dbpedia.org/resource/Polyana_L%C3%B3pez&gt;</td>\n",
       "      <td>Polyana L%C3%B3pez</td>\n",
       "      <td>polyana lpez born circa 1985 is an argentine a...</td>\n",
       "    </tr>\n",
       "    <tr>\n",
       "      <th>2</th>\n",
       "      <td>&lt;http://dbpedia.org/resource/Harpdog_Brown&gt;</td>\n",
       "      <td>Harpdog Brown</td>\n",
       "      <td>harpdog brown is a singer and harmonica player...</td>\n",
       "    </tr>\n",
       "    <tr>\n",
       "      <th>3</th>\n",
       "      <td>&lt;http://dbpedia.org/resource/Franz_Rottensteiner&gt;</td>\n",
       "      <td>Franz Rottensteiner</td>\n",
       "      <td>franz rottensteiner born in waidmannsfeld lowe...</td>\n",
       "    </tr>\n",
       "    <tr>\n",
       "      <th>4</th>\n",
       "      <td>&lt;http://dbpedia.org/resource/G-Enka&gt;</td>\n",
       "      <td>G-Enka</td>\n",
       "      <td>henry krvits born 30 december 1974 in tallinn ...</td>\n",
       "    </tr>\n",
       "  </tbody>\n",
       "</table>\n",
       "</div>"
      ],
      "text/plain": [
       "                                                 URI                 name  \\\n",
       "0         <http://dbpedia.org/resource/Bill_Clinton>         Bill Clinton   \n",
       "1   <http://dbpedia.org/resource/Polyana_L%C3%B3pez>   Polyana L%C3%B3pez   \n",
       "2        <http://dbpedia.org/resource/Harpdog_Brown>        Harpdog Brown   \n",
       "3  <http://dbpedia.org/resource/Franz_Rottensteiner>  Franz Rottensteiner   \n",
       "4               <http://dbpedia.org/resource/G-Enka>               G-Enka   \n",
       "\n",
       "                                                text  \n",
       "0  william jefferson bill clinton born william je...  \n",
       "1  polyana lpez born circa 1985 is an argentine a...  \n",
       "2  harpdog brown is a singer and harmonica player...  \n",
       "3  franz rottensteiner born in waidmannsfeld lowe...  \n",
       "4  henry krvits born 30 december 1974 in tallinn ...  "
      ]
     },
     "execution_count": 3,
     "metadata": {},
     "output_type": "execute_result"
    }
   ],
   "source": [
    "people.head()"
   ]
  },
  {
   "cell_type": "code",
   "execution_count": 4,
   "metadata": {},
   "outputs": [],
   "source": [
    "# Replace all Null values with \"No Data\"\n",
    "people.fillna('No Data', inplace=True)"
   ]
  },
  {
   "cell_type": "markdown",
   "metadata": {},
   "source": [
    "# Using TFIDF"
   ]
  },
  {
   "cell_type": "code",
   "execution_count": 5,
   "metadata": {},
   "outputs": [],
   "source": [
    "# converting our text col to tfidf values\n",
    "\n",
    "from sklearn.feature_extraction.text import TfidfVectorizer\n",
    "tfidf_vect = TfidfVectorizer()  # you can perform all sorts of pre processing here\n",
    "X_train_tfidf = tfidf_vect.fit_transform(people.text)"
   ]
  },
  {
   "cell_type": "code",
   "execution_count": 6,
   "metadata": {},
   "outputs": [
    {
     "data": {
      "text/plain": [
       "['zzb', 'zzebra', 'zzran', 'zzt', 'zzts']"
      ]
     },
     "execution_count": 6,
     "metadata": {},
     "output_type": "execute_result"
    }
   ],
   "source": [
    "tfidf_vect.get_feature_names()[-5:]"
   ]
  },
  {
   "cell_type": "code",
   "execution_count": 7,
   "metadata": {},
   "outputs": [
    {
     "data": {
      "text/plain": [
       "<59071x548412 sparse matrix of type '<class 'numpy.float64'>'\n",
       "\twith 10244123 stored elements in Compressed Sparse Row format>"
      ]
     },
     "execution_count": 7,
     "metadata": {},
     "output_type": "execute_result"
    }
   ],
   "source": [
    "X_train_tfidf"
   ]
  },
  {
   "cell_type": "code",
   "execution_count": 8,
   "metadata": {},
   "outputs": [
    {
     "data": {
      "text/plain": [
       "(59071, 3)"
      ]
     },
     "execution_count": 8,
     "metadata": {},
     "output_type": "execute_result"
    }
   ],
   "source": [
    "people.shape"
   ]
  },
  {
   "cell_type": "code",
   "execution_count": 9,
   "metadata": {},
   "outputs": [],
   "source": [
    "from sklearn.neighbors import NearestNeighbors"
   ]
  },
  {
   "cell_type": "code",
   "execution_count": 10,
   "metadata": {},
   "outputs": [],
   "source": [
    "nn = NearestNeighbors(n_neighbors=10, p=2) # here you can change value"
   ]
  },
  {
   "cell_type": "code",
   "execution_count": 11,
   "metadata": {},
   "outputs": [],
   "source": [
    "nn_fitted = nn.fit(X_train_tfidf)"
   ]
  },
  {
   "cell_type": "markdown",
   "metadata": {},
   "source": [
    "# Find Neighbours"
   ]
  },
  {
   "cell_type": "markdown",
   "metadata": {},
   "source": [
    "- Amitabh"
   ]
  },
  {
   "cell_type": "code",
   "execution_count": 12,
   "metadata": {},
   "outputs": [
    {
     "data": {
      "text/html": [
       "<div>\n",
       "<style scoped>\n",
       "    .dataframe tbody tr th:only-of-type {\n",
       "        vertical-align: middle;\n",
       "    }\n",
       "\n",
       "    .dataframe tbody tr th {\n",
       "        vertical-align: top;\n",
       "    }\n",
       "\n",
       "    .dataframe thead th {\n",
       "        text-align: right;\n",
       "    }\n",
       "</style>\n",
       "<table border=\"1\" class=\"dataframe\">\n",
       "  <thead>\n",
       "    <tr style=\"text-align: right;\">\n",
       "      <th></th>\n",
       "      <th>URI</th>\n",
       "      <th>name</th>\n",
       "      <th>text</th>\n",
       "    </tr>\n",
       "  </thead>\n",
       "  <tbody>\n",
       "    <tr>\n",
       "      <th>0</th>\n",
       "      <td>&lt;http://dbpedia.org/resource/Bill_Clinton&gt;</td>\n",
       "      <td>Bill Clinton</td>\n",
       "      <td>william jefferson bill clinton born william je...</td>\n",
       "    </tr>\n",
       "    <tr>\n",
       "      <th>1</th>\n",
       "      <td>&lt;http://dbpedia.org/resource/Polyana_L%C3%B3pez&gt;</td>\n",
       "      <td>Polyana L%C3%B3pez</td>\n",
       "      <td>polyana lpez born circa 1985 is an argentine a...</td>\n",
       "    </tr>\n",
       "    <tr>\n",
       "      <th>2</th>\n",
       "      <td>&lt;http://dbpedia.org/resource/Harpdog_Brown&gt;</td>\n",
       "      <td>Harpdog Brown</td>\n",
       "      <td>harpdog brown is a singer and harmonica player...</td>\n",
       "    </tr>\n",
       "    <tr>\n",
       "      <th>3</th>\n",
       "      <td>&lt;http://dbpedia.org/resource/Franz_Rottensteiner&gt;</td>\n",
       "      <td>Franz Rottensteiner</td>\n",
       "      <td>franz rottensteiner born in waidmannsfeld lowe...</td>\n",
       "    </tr>\n",
       "    <tr>\n",
       "      <th>4</th>\n",
       "      <td>&lt;http://dbpedia.org/resource/G-Enka&gt;</td>\n",
       "      <td>G-Enka</td>\n",
       "      <td>henry krvits born 30 december 1974 in tallinn ...</td>\n",
       "    </tr>\n",
       "  </tbody>\n",
       "</table>\n",
       "</div>"
      ],
      "text/plain": [
       "                                                 URI                 name  \\\n",
       "0         <http://dbpedia.org/resource/Bill_Clinton>         Bill Clinton   \n",
       "1   <http://dbpedia.org/resource/Polyana_L%C3%B3pez>   Polyana L%C3%B3pez   \n",
       "2        <http://dbpedia.org/resource/Harpdog_Brown>        Harpdog Brown   \n",
       "3  <http://dbpedia.org/resource/Franz_Rottensteiner>  Franz Rottensteiner   \n",
       "4               <http://dbpedia.org/resource/G-Enka>               G-Enka   \n",
       "\n",
       "                                                text  \n",
       "0  william jefferson bill clinton born william je...  \n",
       "1  polyana lpez born circa 1985 is an argentine a...  \n",
       "2  harpdog brown is a singer and harmonica player...  \n",
       "3  franz rottensteiner born in waidmannsfeld lowe...  \n",
       "4  henry krvits born 30 december 1974 in tallinn ...  "
      ]
     },
     "execution_count": 12,
     "metadata": {},
     "output_type": "execute_result"
    }
   ],
   "source": [
    "people.head()"
   ]
  },
  {
   "cell_type": "code",
   "execution_count": 13,
   "metadata": {},
   "outputs": [
    {
     "data": {
      "text/plain": [
       "48151"
      ]
     },
     "execution_count": 13,
     "metadata": {},
     "output_type": "execute_result"
    }
   ],
   "source": [
    "index = people[people.name.str.contains(\"amitabh\", case=False)].index[0]\n",
    "index"
   ]
  },
  {
   "cell_type": "code",
   "execution_count": 14,
   "metadata": {},
   "outputs": [
    {
     "data": {
      "text/plain": [
       "<1x548412 sparse matrix of type '<class 'numpy.float64'>'\n",
       "\twith 145 stored elements in Compressed Sparse Row format>"
      ]
     },
     "execution_count": 14,
     "metadata": {},
     "output_type": "execute_result"
    }
   ],
   "source": [
    "X_train_tfidf[index,:] # tfidf vector for Amitabh"
   ]
  },
  {
   "cell_type": "code",
   "execution_count": 15,
   "metadata": {},
   "outputs": [],
   "source": [
    "score, neighbours = nn_fitted.kneighbors(X_train_tfidf[index,:])"
   ]
  },
  {
   "cell_type": "code",
   "execution_count": 16,
   "metadata": {},
   "outputs": [
    {
     "data": {
      "text/plain": [
       "array([0.        , 1.1450037 , 1.14516594, 1.15612104, 1.16326194,\n",
       "       1.1887013 , 1.1989314 , 1.2017944 , 1.20739367, 1.20792693])"
      ]
     },
     "execution_count": 16,
     "metadata": {},
     "output_type": "execute_result"
    }
   ],
   "source": [
    "score[0]"
   ]
  },
  {
   "cell_type": "code",
   "execution_count": 17,
   "metadata": {},
   "outputs": [
    {
     "data": {
      "text/plain": [
       "array([48151, 23229, 13267, 58790, 25394, 26948,   331, 41897, 50670,\n",
       "        7504])"
      ]
     },
     "execution_count": 17,
     "metadata": {},
     "output_type": "execute_result"
    }
   ],
   "source": [
    "neighbours[0]"
   ]
  },
  {
   "cell_type": "code",
   "execution_count": 18,
   "metadata": {},
   "outputs": [
    {
     "data": {
      "text/html": [
       "<div>\n",
       "<style scoped>\n",
       "    .dataframe tbody tr th:only-of-type {\n",
       "        vertical-align: middle;\n",
       "    }\n",
       "\n",
       "    .dataframe tbody tr th {\n",
       "        vertical-align: top;\n",
       "    }\n",
       "\n",
       "    .dataframe thead th {\n",
       "        text-align: right;\n",
       "    }\n",
       "</style>\n",
       "<table border=\"1\" class=\"dataframe\">\n",
       "  <thead>\n",
       "    <tr style=\"text-align: right;\">\n",
       "      <th></th>\n",
       "      <th>URI</th>\n",
       "      <th>name</th>\n",
       "      <th>text</th>\n",
       "    </tr>\n",
       "  </thead>\n",
       "  <tbody>\n",
       "    <tr>\n",
       "      <th>48151</th>\n",
       "      <td>&lt;http://dbpedia.org/resource/Amitabh_Bachchan&gt;</td>\n",
       "      <td>Amitabh Bachchan</td>\n",
       "      <td>amitabh harivansh bachchan ipa mtab bttn born ...</td>\n",
       "    </tr>\n",
       "    <tr>\n",
       "      <th>23229</th>\n",
       "      <td>&lt;http://dbpedia.org/resource/Dilip_Kumar&gt;</td>\n",
       "      <td>Dilip Kumar</td>\n",
       "      <td>dilip kumar born muhammad yusuf khan on 11 dec...</td>\n",
       "    </tr>\n",
       "    <tr>\n",
       "      <th>13267</th>\n",
       "      <td>&lt;http://dbpedia.org/resource/Aamir_Khan&gt;</td>\n",
       "      <td>Aamir Khan</td>\n",
       "      <td>aamir khan pronounced amr xan born mohammed aa...</td>\n",
       "    </tr>\n",
       "    <tr>\n",
       "      <th>58790</th>\n",
       "      <td>&lt;http://dbpedia.org/resource/Jaya_Bachchan&gt;</td>\n",
       "      <td>Jaya Bachchan</td>\n",
       "      <td>jaya bachchan bengali hindi urdu born jaya bha...</td>\n",
       "    </tr>\n",
       "    <tr>\n",
       "      <th>25394</th>\n",
       "      <td>&lt;http://dbpedia.org/resource/Mohanlal&gt;</td>\n",
       "      <td>Mohanlal</td>\n",
       "      <td>mohanlal viswanathan nair born 21 may 1960 bet...</td>\n",
       "    </tr>\n",
       "    <tr>\n",
       "      <th>26948</th>\n",
       "      <td>&lt;http://dbpedia.org/resource/Chiranjeevi&gt;</td>\n",
       "      <td>Chiranjeevi</td>\n",
       "      <td>chiranjeevi born konidela siva sankara vara pr...</td>\n",
       "    </tr>\n",
       "    <tr>\n",
       "      <th>331</th>\n",
       "      <td>&lt;http://dbpedia.org/resource/Mammootty&gt;</td>\n",
       "      <td>Mammootty</td>\n",
       "      <td>mammootty born as muhammad kutty ismail panipa...</td>\n",
       "    </tr>\n",
       "    <tr>\n",
       "      <th>41897</th>\n",
       "      <td>&lt;http://dbpedia.org/resource/K._J._Yesudas&gt;</td>\n",
       "      <td>K. J. Yesudas</td>\n",
       "      <td>kattassery joseph yesudas malayalam born 10 ja...</td>\n",
       "    </tr>\n",
       "    <tr>\n",
       "      <th>50670</th>\n",
       "      <td>&lt;http://dbpedia.org/resource/Jasbir_Singh_Bajaj&gt;</td>\n",
       "      <td>Jasbir Singh Bajaj</td>\n",
       "      <td>drjasbir singh bajaj is an indian physician an...</td>\n",
       "    </tr>\n",
       "    <tr>\n",
       "      <th>7504</th>\n",
       "      <td>&lt;http://dbpedia.org/resource/Rajinikanth&gt;</td>\n",
       "      <td>Rajinikanth</td>\n",
       "      <td>rajinikanth born shivaji rao gaekwad 12 decemb...</td>\n",
       "    </tr>\n",
       "  </tbody>\n",
       "</table>\n",
       "</div>"
      ],
      "text/plain": [
       "                                                    URI                name  \\\n",
       "48151    <http://dbpedia.org/resource/Amitabh_Bachchan>    Amitabh Bachchan   \n",
       "23229         <http://dbpedia.org/resource/Dilip_Kumar>         Dilip Kumar   \n",
       "13267          <http://dbpedia.org/resource/Aamir_Khan>          Aamir Khan   \n",
       "58790       <http://dbpedia.org/resource/Jaya_Bachchan>       Jaya Bachchan   \n",
       "25394            <http://dbpedia.org/resource/Mohanlal>            Mohanlal   \n",
       "26948         <http://dbpedia.org/resource/Chiranjeevi>         Chiranjeevi   \n",
       "331             <http://dbpedia.org/resource/Mammootty>           Mammootty   \n",
       "41897       <http://dbpedia.org/resource/K._J._Yesudas>       K. J. Yesudas   \n",
       "50670  <http://dbpedia.org/resource/Jasbir_Singh_Bajaj>  Jasbir Singh Bajaj   \n",
       "7504          <http://dbpedia.org/resource/Rajinikanth>         Rajinikanth   \n",
       "\n",
       "                                                    text  \n",
       "48151  amitabh harivansh bachchan ipa mtab bttn born ...  \n",
       "23229  dilip kumar born muhammad yusuf khan on 11 dec...  \n",
       "13267  aamir khan pronounced amr xan born mohammed aa...  \n",
       "58790  jaya bachchan bengali hindi urdu born jaya bha...  \n",
       "25394  mohanlal viswanathan nair born 21 may 1960 bet...  \n",
       "26948  chiranjeevi born konidela siva sankara vara pr...  \n",
       "331    mammootty born as muhammad kutty ismail panipa...  \n",
       "41897  kattassery joseph yesudas malayalam born 10 ja...  \n",
       "50670  drjasbir singh bajaj is an indian physician an...  \n",
       "7504   rajinikanth born shivaji rao gaekwad 12 decemb...  "
      ]
     },
     "execution_count": 18,
     "metadata": {},
     "output_type": "execute_result"
    }
   ],
   "source": [
    "people.iloc[neighbours[0]]"
   ]
  },
  {
   "cell_type": "code",
   "execution_count": 19,
   "metadata": {},
   "outputs": [
    {
     "data": {
      "text/plain": [
       "array(['Bill Clinton', 'Polyana L%C3%B3pez', 'Harpdog Brown', ...,\n",
       "       'David Cass (footballer)', 'Keith Elias', 'Fawaz Damrah'],\n",
       "      dtype=object)"
      ]
     },
     "execution_count": 19,
     "metadata": {},
     "output_type": "execute_result"
    }
   ],
   "source": [
    "people.name.values"
   ]
  },
  {
   "cell_type": "markdown",
   "metadata": {},
   "source": [
    "# Unkown actor example"
   ]
  },
  {
   "cell_type": "code",
   "execution_count": 20,
   "metadata": {},
   "outputs": [],
   "source": [
    "some_actor = \"some text bollywood movie hindi cinema\"\n",
    "unknown_actor = tfidf_vect.transform([some_actor]) # do not use fit_transform"
   ]
  },
  {
   "cell_type": "code",
   "execution_count": 21,
   "metadata": {},
   "outputs": [],
   "source": [
    "score, neighbours = nn_fitted.kneighbors(unknown_actor)"
   ]
  },
  {
   "cell_type": "code",
   "execution_count": 22,
   "metadata": {},
   "outputs": [
    {
     "data": {
      "text/html": [
       "<div>\n",
       "<style scoped>\n",
       "    .dataframe tbody tr th:only-of-type {\n",
       "        vertical-align: middle;\n",
       "    }\n",
       "\n",
       "    .dataframe tbody tr th {\n",
       "        vertical-align: top;\n",
       "    }\n",
       "\n",
       "    .dataframe thead th {\n",
       "        text-align: right;\n",
       "    }\n",
       "</style>\n",
       "<table border=\"1\" class=\"dataframe\">\n",
       "  <thead>\n",
       "    <tr style=\"text-align: right;\">\n",
       "      <th></th>\n",
       "      <th>URI</th>\n",
       "      <th>name</th>\n",
       "      <th>text</th>\n",
       "    </tr>\n",
       "  </thead>\n",
       "  <tbody>\n",
       "    <tr>\n",
       "      <th>23353</th>\n",
       "      <td>&lt;http://dbpedia.org/resource/Derek_Bose&gt;</td>\n",
       "      <td>Derek Bose</td>\n",
       "      <td>derek bose born in calcutta on 15 september 19...</td>\n",
       "    </tr>\n",
       "    <tr>\n",
       "      <th>5982</th>\n",
       "      <td>&lt;http://dbpedia.org/resource/Tarun_shienh&gt;</td>\n",
       "      <td>Tarun shienh</td>\n",
       "      <td>tarun shienh is among the bestknown poets and ...</td>\n",
       "    </tr>\n",
       "    <tr>\n",
       "      <th>2065</th>\n",
       "      <td>&lt;http://dbpedia.org/resource/Priyadarshan&gt;</td>\n",
       "      <td>Priyadarshan</td>\n",
       "      <td>priyadarshan soman nair is an indian film dire...</td>\n",
       "    </tr>\n",
       "    <tr>\n",
       "      <th>28702</th>\n",
       "      <td>&lt;http://dbpedia.org/resource/Vageesh_Saraswat&gt;</td>\n",
       "      <td>Vageesh Saraswat</td>\n",
       "      <td>vageesh saraswat hindi is a hindi journalist a...</td>\n",
       "    </tr>\n",
       "    <tr>\n",
       "      <th>20863</th>\n",
       "      <td>&lt;http://dbpedia.org/resource/Vaibhavi_Merchant&gt;</td>\n",
       "      <td>Vaibhavi Merchant</td>\n",
       "      <td>vaibhavi merchant is an indian dance choreogra...</td>\n",
       "    </tr>\n",
       "    <tr>\n",
       "      <th>2390</th>\n",
       "      <td>&lt;http://dbpedia.org/resource/Mumtaz_(actress)&gt;</td>\n",
       "      <td>Mumtaz (actress)</td>\n",
       "      <td>mumtaz hindi arabic born 31 july 1947 is an ac...</td>\n",
       "    </tr>\n",
       "    <tr>\n",
       "      <th>19701</th>\n",
       "      <td>&lt;http://dbpedia.org/resource/Gopaldas_Neeraj&gt;</td>\n",
       "      <td>Gopaldas Neeraj</td>\n",
       "      <td>gopaldas saxena neeraj popularly known as nira...</td>\n",
       "    </tr>\n",
       "    <tr>\n",
       "      <th>58840</th>\n",
       "      <td>&lt;http://dbpedia.org/resource/Balendu_Sharma_Da...</td>\n",
       "      <td>Balendu Sharma Dadhich</td>\n",
       "      <td>balendu sharma dadhich hindi is an indian tech...</td>\n",
       "    </tr>\n",
       "    <tr>\n",
       "      <th>13243</th>\n",
       "      <td>&lt;http://dbpedia.org/resource/Frank_P._Tomasulo&gt;</td>\n",
       "      <td>Frank P. Tomasulo</td>\n",
       "      <td>frank p tomasulo is an american film critic th...</td>\n",
       "    </tr>\n",
       "    <tr>\n",
       "      <th>9320</th>\n",
       "      <td>&lt;http://dbpedia.org/resource/Sridevi&gt;</td>\n",
       "      <td>Sridevi</td>\n",
       "      <td>sridevi kapoor known as sridevi born shree amm...</td>\n",
       "    </tr>\n",
       "  </tbody>\n",
       "</table>\n",
       "</div>"
      ],
      "text/plain": [
       "                                                     URI  \\\n",
       "23353           <http://dbpedia.org/resource/Derek_Bose>   \n",
       "5982          <http://dbpedia.org/resource/Tarun_shienh>   \n",
       "2065          <http://dbpedia.org/resource/Priyadarshan>   \n",
       "28702     <http://dbpedia.org/resource/Vageesh_Saraswat>   \n",
       "20863    <http://dbpedia.org/resource/Vaibhavi_Merchant>   \n",
       "2390      <http://dbpedia.org/resource/Mumtaz_(actress)>   \n",
       "19701      <http://dbpedia.org/resource/Gopaldas_Neeraj>   \n",
       "58840  <http://dbpedia.org/resource/Balendu_Sharma_Da...   \n",
       "13243    <http://dbpedia.org/resource/Frank_P._Tomasulo>   \n",
       "9320               <http://dbpedia.org/resource/Sridevi>   \n",
       "\n",
       "                         name  \\\n",
       "23353              Derek Bose   \n",
       "5982             Tarun shienh   \n",
       "2065             Priyadarshan   \n",
       "28702        Vageesh Saraswat   \n",
       "20863       Vaibhavi Merchant   \n",
       "2390         Mumtaz (actress)   \n",
       "19701         Gopaldas Neeraj   \n",
       "58840  Balendu Sharma Dadhich   \n",
       "13243       Frank P. Tomasulo   \n",
       "9320                  Sridevi   \n",
       "\n",
       "                                                    text  \n",
       "23353  derek bose born in calcutta on 15 september 19...  \n",
       "5982   tarun shienh is among the bestknown poets and ...  \n",
       "2065   priyadarshan soman nair is an indian film dire...  \n",
       "28702  vageesh saraswat hindi is a hindi journalist a...  \n",
       "20863  vaibhavi merchant is an indian dance choreogra...  \n",
       "2390   mumtaz hindi arabic born 31 july 1947 is an ac...  \n",
       "19701  gopaldas saxena neeraj popularly known as nira...  \n",
       "58840  balendu sharma dadhich hindi is an indian tech...  \n",
       "13243  frank p tomasulo is an american film critic th...  \n",
       "9320   sridevi kapoor known as sridevi born shree amm...  "
      ]
     },
     "execution_count": 22,
     "metadata": {},
     "output_type": "execute_result"
    }
   ],
   "source": [
    "people.iloc[neighbours[0]]"
   ]
  },
  {
   "cell_type": "markdown",
   "metadata": {},
   "source": [
    "# Count Vect"
   ]
  },
  {
   "cell_type": "code",
   "execution_count": 23,
   "metadata": {},
   "outputs": [],
   "source": [
    "# converting our text col to tfidf values\n",
    "\n",
    "from sklearn.feature_extraction.text import CountVectorizer\n",
    "count_vect = CountVectorizer()\n",
    "X_train_count = count_vect.fit_transform(people.text)"
   ]
  },
  {
   "cell_type": "code",
   "execution_count": 24,
   "metadata": {},
   "outputs": [],
   "source": [
    "nn_fitted_cv = nn.fit(X_train_count)"
   ]
  },
  {
   "cell_type": "code",
   "execution_count": 25,
   "metadata": {},
   "outputs": [],
   "source": [
    "score, neighbours = nn_fitted_cv.kneighbors(X_train_count[index,:])"
   ]
  },
  {
   "cell_type": "code",
   "execution_count": 26,
   "metadata": {},
   "outputs": [
    {
     "data": {
      "text/html": [
       "<div>\n",
       "<style scoped>\n",
       "    .dataframe tbody tr th:only-of-type {\n",
       "        vertical-align: middle;\n",
       "    }\n",
       "\n",
       "    .dataframe tbody tr th {\n",
       "        vertical-align: top;\n",
       "    }\n",
       "\n",
       "    .dataframe thead th {\n",
       "        text-align: right;\n",
       "    }\n",
       "</style>\n",
       "<table border=\"1\" class=\"dataframe\">\n",
       "  <thead>\n",
       "    <tr style=\"text-align: right;\">\n",
       "      <th></th>\n",
       "      <th>URI</th>\n",
       "      <th>name</th>\n",
       "      <th>text</th>\n",
       "    </tr>\n",
       "  </thead>\n",
       "  <tbody>\n",
       "    <tr>\n",
       "      <th>48151</th>\n",
       "      <td>&lt;http://dbpedia.org/resource/Amitabh_Bachchan&gt;</td>\n",
       "      <td>Amitabh Bachchan</td>\n",
       "      <td>amitabh harivansh bachchan ipa mtab bttn born ...</td>\n",
       "    </tr>\n",
       "    <tr>\n",
       "      <th>47179</th>\n",
       "      <td>&lt;http://dbpedia.org/resource/Eric_Bana&gt;</td>\n",
       "      <td>Eric Bana</td>\n",
       "      <td>eric bana born eric banadinovi 9 august 1968 i...</td>\n",
       "    </tr>\n",
       "    <tr>\n",
       "      <th>13313</th>\n",
       "      <td>&lt;http://dbpedia.org/resource/Keith_Faulkner&gt;</td>\n",
       "      <td>Keith Faulkner</td>\n",
       "      <td>keith faulkner born 25 july 1936 is an english...</td>\n",
       "    </tr>\n",
       "    <tr>\n",
       "      <th>22635</th>\n",
       "      <td>&lt;http://dbpedia.org/resource/Thomas_Murphy_(jo...</td>\n",
       "      <td>Thomas Murphy (journalist)</td>\n",
       "      <td>thomas tom murphy is a british born journalist...</td>\n",
       "    </tr>\n",
       "    <tr>\n",
       "      <th>50021</th>\n",
       "      <td>&lt;http://dbpedia.org/resource/Irrfan_Khan&gt;</td>\n",
       "      <td>Irrfan Khan</td>\n",
       "      <td>sahabzade irrfan ali khan born 7 january 1967 ...</td>\n",
       "    </tr>\n",
       "    <tr>\n",
       "      <th>26371</th>\n",
       "      <td>&lt;http://dbpedia.org/resource/Greg_Cruttwell&gt;</td>\n",
       "      <td>Greg Cruttwell</td>\n",
       "      <td>greg cruttwell born in 1962 in london is an en...</td>\n",
       "    </tr>\n",
       "    <tr>\n",
       "      <th>47703</th>\n",
       "      <td>&lt;http://dbpedia.org/resource/Richard_Leduc&gt;</td>\n",
       "      <td>Richard Leduc</td>\n",
       "      <td>richard leduc born 1941 is a french actor he a...</td>\n",
       "    </tr>\n",
       "    <tr>\n",
       "      <th>24785</th>\n",
       "      <td>&lt;http://dbpedia.org/resource/Ron_Husmann&gt;</td>\n",
       "      <td>Ron Husmann</td>\n",
       "      <td>ron husmann born june 30 1937 is an american a...</td>\n",
       "    </tr>\n",
       "    <tr>\n",
       "      <th>26002</th>\n",
       "      <td>&lt;http://dbpedia.org/resource/Christopher_Walken&gt;</td>\n",
       "      <td>Christopher Walken</td>\n",
       "      <td>christopher walken born ronald walken on march...</td>\n",
       "    </tr>\n",
       "    <tr>\n",
       "      <th>19971</th>\n",
       "      <td>&lt;http://dbpedia.org/resource/Antonio_Isasi-Isa...</td>\n",
       "      <td>Antonio Isasi-Isasmendi</td>\n",
       "      <td>antonio isasiisasmendi born 22 march 1927 is a...</td>\n",
       "    </tr>\n",
       "  </tbody>\n",
       "</table>\n",
       "</div>"
      ],
      "text/plain": [
       "                                                     URI  \\\n",
       "48151     <http://dbpedia.org/resource/Amitabh_Bachchan>   \n",
       "47179            <http://dbpedia.org/resource/Eric_Bana>   \n",
       "13313       <http://dbpedia.org/resource/Keith_Faulkner>   \n",
       "22635  <http://dbpedia.org/resource/Thomas_Murphy_(jo...   \n",
       "50021          <http://dbpedia.org/resource/Irrfan_Khan>   \n",
       "26371       <http://dbpedia.org/resource/Greg_Cruttwell>   \n",
       "47703        <http://dbpedia.org/resource/Richard_Leduc>   \n",
       "24785          <http://dbpedia.org/resource/Ron_Husmann>   \n",
       "26002   <http://dbpedia.org/resource/Christopher_Walken>   \n",
       "19971  <http://dbpedia.org/resource/Antonio_Isasi-Isa...   \n",
       "\n",
       "                             name  \\\n",
       "48151            Amitabh Bachchan   \n",
       "47179                   Eric Bana   \n",
       "13313              Keith Faulkner   \n",
       "22635  Thomas Murphy (journalist)   \n",
       "50021                 Irrfan Khan   \n",
       "26371              Greg Cruttwell   \n",
       "47703               Richard Leduc   \n",
       "24785                 Ron Husmann   \n",
       "26002          Christopher Walken   \n",
       "19971     Antonio Isasi-Isasmendi   \n",
       "\n",
       "                                                    text  \n",
       "48151  amitabh harivansh bachchan ipa mtab bttn born ...  \n",
       "47179  eric bana born eric banadinovi 9 august 1968 i...  \n",
       "13313  keith faulkner born 25 july 1936 is an english...  \n",
       "22635  thomas tom murphy is a british born journalist...  \n",
       "50021  sahabzade irrfan ali khan born 7 january 1967 ...  \n",
       "26371  greg cruttwell born in 1962 in london is an en...  \n",
       "47703  richard leduc born 1941 is a french actor he a...  \n",
       "24785  ron husmann born june 30 1937 is an american a...  \n",
       "26002  christopher walken born ronald walken on march...  \n",
       "19971  antonio isasiisasmendi born 22 march 1927 is a...  "
      ]
     },
     "execution_count": 26,
     "metadata": {},
     "output_type": "execute_result"
    }
   ],
   "source": [
    "people.iloc[neighbours[0]]"
   ]
  },
  {
   "cell_type": "markdown",
   "metadata": {},
   "source": [
    "# Lets understand NN algo"
   ]
  },
  {
   "cell_type": "markdown",
   "metadata": {},
   "source": [
    "### NearestNeighbors()\n",
    "\n",
    "- metric='minkowski'\n",
    "- p=2 ( default value is 2 )"
   ]
  },
  {
   "cell_type": "markdown",
   "metadata": {},
   "source": [
    "## minkowski distance algo\n",
    "\n",
    "- manhattan distance\n",
    "- euclidian distance"
   ]
  },
  {
   "cell_type": "code",
   "execution_count": 27,
   "metadata": {},
   "outputs": [
    {
     "name": "stdout",
     "output_type": "stream",
     "text": [
      "2\n"
     ]
    }
   ],
   "source": [
    "# Manhattan Distance\n",
    "x = [1,0,0]\n",
    "y = [0,1,0]\n",
    "\n",
    "distance = 0\n",
    "\n",
    "for i,j in zip(x,y):\n",
    "    distance += abs(i-j)\n",
    "\n",
    "print(distance)"
   ]
  },
  {
   "cell_type": "code",
   "execution_count": 28,
   "metadata": {},
   "outputs": [
    {
     "name": "stdout",
     "output_type": "stream",
     "text": [
      "1.4142135623730951\n"
     ]
    }
   ],
   "source": [
    "# euclidian distance\n",
    "x = [1,0,0]\n",
    "y = [0,1,0]\n",
    "\n",
    "distance = 0\n",
    "\n",
    "for i,j in zip(x,y):\n",
    "    distance += abs((i-j)) ** 2\n",
    "\n",
    "distance = distance ** (1/2)\n",
    "print(distance)"
   ]
  },
  {
   "cell_type": "code",
   "execution_count": 29,
   "metadata": {},
   "outputs": [
    {
     "name": "stdout",
     "output_type": "stream",
     "text": [
      "1.148698354997035\n"
     ]
    }
   ],
   "source": [
    "# minkowski - function - generic function\n",
    "x = [1,0,0]\n",
    "y = [0,1,0]\n",
    "p = 5\n",
    "distance = 0\n",
    "\n",
    "for i,j in zip(x,y):\n",
    "    distance += abs((i-j)) ** p\n",
    "\n",
    "distance = distance ** (1/p)\n",
    "print(distance)"
   ]
  },
  {
   "cell_type": "markdown",
   "metadata": {},
   "source": [
    "# Clustering"
   ]
  },
  {
   "cell_type": "markdown",
   "metadata": {},
   "source": [
    "<img src='./clustering.png'/>"
   ]
  },
  {
   "cell_type": "markdown",
   "metadata": {},
   "source": [
    "# Clustering using Sklearn\n",
    "\n",
    "\n",
    "- twitter data set - to concrete your understanding"
   ]
  },
  {
   "cell_type": "code",
   "execution_count": 30,
   "metadata": {},
   "outputs": [],
   "source": [
    "people = pd.read_csv('people_data.csv', nrows=100)"
   ]
  },
  {
   "cell_type": "code",
   "execution_count": 31,
   "metadata": {},
   "outputs": [],
   "source": [
    "from sklearn.cluster import KMeans"
   ]
  },
  {
   "cell_type": "code",
   "execution_count": 32,
   "metadata": {},
   "outputs": [],
   "source": [
    "tfidf_vect = TfidfVectorizer()\n",
    "X_train_tfidf = tfidf_vect.fit_transform(people.text)"
   ]
  },
  {
   "cell_type": "code",
   "execution_count": 33,
   "metadata": {},
   "outputs": [
    {
     "data": {
      "text/plain": [
       "(100, 6981)"
      ]
     },
     "execution_count": 33,
     "metadata": {},
     "output_type": "execute_result"
    }
   ],
   "source": [
    "X_train_tfidf.shape"
   ]
  },
  {
   "cell_type": "code",
   "execution_count": 34,
   "metadata": {},
   "outputs": [],
   "source": [
    "kmeans = KMeans(n_clusters=2).fit(X_train_tfidf)"
   ]
  },
  {
   "cell_type": "code",
   "execution_count": 35,
   "metadata": {},
   "outputs": [
    {
     "data": {
      "text/plain": [
       "array([[0.00446825, 0.00249195, 0.        , ..., 0.        , 0.        ,\n",
       "        0.0079205 ],\n",
       "       [0.00456433, 0.00350472, 0.00047163, ..., 0.00061521, 0.00089161,\n",
       "        0.        ]])"
      ]
     },
     "execution_count": 35,
     "metadata": {},
     "output_type": "execute_result"
    }
   ],
   "source": [
    "kmeans.cluster_centers_"
   ]
  },
  {
   "cell_type": "code",
   "execution_count": 36,
   "metadata": {},
   "outputs": [
    {
     "data": {
      "text/plain": [
       "array([1, 0, 1, 1, 1, 1, 1, 1, 1, 0, 0, 0, 1, 1, 1, 1, 1, 1, 1, 1, 1, 1,\n",
       "       1, 0, 1, 1, 1, 1, 1, 0, 1, 1, 1, 1, 1, 1, 1, 1, 1, 1, 1, 1, 0, 1,\n",
       "       1, 1, 1, 0, 1, 1, 1, 0, 1, 1, 1, 0, 0, 1, 1, 1, 1, 1, 1, 1, 1, 1,\n",
       "       0, 1, 0, 1, 1, 1, 1, 1, 1, 1, 1, 1, 1, 1, 1, 0, 0, 1, 0, 1, 1, 1,\n",
       "       1, 1, 0, 0, 1, 1, 0, 1, 1, 1, 1, 1], dtype=int32)"
      ]
     },
     "execution_count": 36,
     "metadata": {},
     "output_type": "execute_result"
    }
   ],
   "source": [
    "kmeans.labels_"
   ]
  },
  {
   "cell_type": "markdown",
   "metadata": {},
   "source": [
    "# import twitter data"
   ]
  },
  {
   "cell_type": "markdown",
   "metadata": {},
   "source": [
    "perform clustering"
   ]
  },
  {
   "cell_type": "markdown",
   "metadata": {},
   "source": [
    "# How to use tfidf instance in test.py and train.py\n",
    "\n",
    "- train.py - tfidf - fit_transform\n",
    "- test.py - tftidf - transform"
   ]
  },
  {
   "cell_type": "markdown",
   "metadata": {},
   "source": [
    "## method 1 -save  the features\n",
    "1. Save features in a csv file while training\n",
    "2. While test.py executes - `TfidfVectorizer(vocabulary=[])`\n",
    "\n",
    "\n",
    "## method 2 - pickle \n",
    "1. Save the tfidf variable in a file while training\n",
    "2. Load the same variable while test.py executes"
   ]
  },
  {
   "cell_type": "code",
   "execution_count": null,
   "metadata": {},
   "outputs": [],
   "source": []
  }
 ],
 "metadata": {
  "kernelspec": {
   "display_name": "Python 3",
   "language": "python",
   "name": "python3"
  },
  "language_info": {
   "codemirror_mode": {
    "name": "ipython",
    "version": 3
   },
   "file_extension": ".py",
   "mimetype": "text/x-python",
   "name": "python",
   "nbconvert_exporter": "python",
   "pygments_lexer": "ipython3",
   "version": "3.7.4"
  }
 },
 "nbformat": 4,
 "nbformat_minor": 4
}
